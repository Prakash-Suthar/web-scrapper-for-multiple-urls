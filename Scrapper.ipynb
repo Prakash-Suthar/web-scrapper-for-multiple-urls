{
 "cells": [
  {
   "cell_type": "code",
   "execution_count": 1,
   "id": "5424c374",
   "metadata": {},
   "outputs": [],
   "source": [
    "import pandas as pd"
   ]
  },
  {
   "cell_type": "code",
   "execution_count": 2,
   "id": "512c3c9a",
   "metadata": {},
   "outputs": [],
   "source": [
    "df = pd.read_csv(\"Web Scraping Assignment - Web Scraping Assignment.csv\",na_values = [\"??\",'null'])"
   ]
  },
  {
   "cell_type": "code",
   "execution_count": 3,
   "id": "e70a1b92",
   "metadata": {},
   "outputs": [
    {
     "data": {
      "text/html": [
       "<div>\n",
       "<style scoped>\n",
       "    .dataframe tbody tr th:only-of-type {\n",
       "        vertical-align: middle;\n",
       "    }\n",
       "\n",
       "    .dataframe tbody tr th {\n",
       "        vertical-align: top;\n",
       "    }\n",
       "\n",
       "    .dataframe thead th {\n",
       "        text-align: right;\n",
       "    }\n",
       "</style>\n",
       "<table border=\"1\" class=\"dataframe\">\n",
       "  <thead>\n",
       "    <tr style=\"text-align: right;\">\n",
       "      <th></th>\n",
       "      <th>,</th>\n",
       "      <th>COLLEGE NAME</th>\n",
       "      <th>WEBSITE</th>\n",
       "      <th>ADRESS</th>\n",
       "    </tr>\n",
       "  </thead>\n",
       "  <tbody>\n",
       "    <tr>\n",
       "      <th>0</th>\n",
       "      <td>1</td>\n",
       "      <td>Abhinava Bharathi College of Pharmacy, Mandya</td>\n",
       "      <td>NaN</td>\n",
       "      <td>NaN</td>\n",
       "    </tr>\n",
       "    <tr>\n",
       "      <th>1</th>\n",
       "      <td>2</td>\n",
       "      <td>Academy Of Management Studies, Hyderabad</td>\n",
       "      <td>http://www.useams.org/</td>\n",
       "      <td>NaN</td>\n",
       "    </tr>\n",
       "    <tr>\n",
       "      <th>2</th>\n",
       "      <td>3</td>\n",
       "      <td>Academy Of Mass Communication, Lucknow</td>\n",
       "      <td>https://www.amclko.org/</td>\n",
       "      <td>NaN</td>\n",
       "    </tr>\n",
       "    <tr>\n",
       "      <th>3</th>\n",
       "      <td>4</td>\n",
       "      <td>Acharaya Shri Chander College Of Medical Scien...</td>\n",
       "      <td>http://ascomscollege.com/</td>\n",
       "      <td>NaN</td>\n",
       "    </tr>\n",
       "    <tr>\n",
       "      <th>4</th>\n",
       "      <td>5</td>\n",
       "      <td>Acharya Institutes of Science &amp; Management, Ba...</td>\n",
       "      <td>https://www.acharya.ac.in/</td>\n",
       "      <td>NaN</td>\n",
       "    </tr>\n",
       "  </tbody>\n",
       "</table>\n",
       "</div>"
      ],
      "text/plain": [
       "   ,                                       COLLEGE NAME  \\\n",
       "0  1      Abhinava Bharathi College of Pharmacy, Mandya   \n",
       "1  2           Academy Of Management Studies, Hyderabad   \n",
       "2  3             Academy Of Mass Communication, Lucknow   \n",
       "3  4  Acharaya Shri Chander College Of Medical Scien...   \n",
       "4  5  Acharya Institutes of Science & Management, Ba...   \n",
       "\n",
       "                      WEBSITE  ADRESS  \n",
       "0                         NaN     NaN  \n",
       "1      http://www.useams.org/     NaN  \n",
       "2     https://www.amclko.org/     NaN  \n",
       "3   http://ascomscollege.com/     NaN  \n",
       "4  https://www.acharya.ac.in/     NaN  "
      ]
     },
     "execution_count": 3,
     "metadata": {},
     "output_type": "execute_result"
    }
   ],
   "source": [
    "df.head()"
   ]
  },
  {
   "cell_type": "code",
   "execution_count": 4,
   "id": "008c04d2",
   "metadata": {},
   "outputs": [
    {
     "data": {
      "text/plain": [
       "Index([',', 'COLLEGE NAME', ' WEBSITE', 'ADRESS'], dtype='object')"
      ]
     },
     "execution_count": 4,
     "metadata": {},
     "output_type": "execute_result"
    }
   ],
   "source": [
    "df.columns"
   ]
  },
  {
   "cell_type": "code",
   "execution_count": 5,
   "id": "69412cca",
   "metadata": {},
   "outputs": [],
   "source": [
    "import requests\n",
    "from bs4 import BeautifulSoup\n",
    "import numpy as np"
   ]
  },
  {
   "cell_type": "code",
   "execution_count": 6,
   "id": "b4da6157",
   "metadata": {},
   "outputs": [],
   "source": [
    "def scrape_address(url):\n",
    "    try:\n",
    "        response = requests.get(url)\n",
    "        soup = BeautifulSoup(response.content, 'html.parser')\n",
    "        address = soup.find('address').text.strip()\n",
    "        return address\n",
    "    except (AttributeError, requests.exceptions.RequestException):\n",
    "        return ''\n",
    "    "
   ]
  },
  {
   "cell_type": "code",
   "execution_count": 7,
   "id": "9751982a",
   "metadata": {},
   "outputs": [
    {
     "name": "stderr",
     "output_type": "stream",
     "text": [
      "Some characters could not be decoded, and were replaced with REPLACEMENT CHARACTER.\n"
     ]
    }
   ],
   "source": [
    "df['ADRESS'] = df[' WEBSITE'].apply(scrape_address)"
   ]
  },
  {
   "cell_type": "code",
   "execution_count": 13,
   "id": "abeea4fa",
   "metadata": {},
   "outputs": [],
   "source": [
    "\n",
    "df.to_csv('colleges_with_address.csv', index=False)"
   ]
  },
  {
   "cell_type": "code",
   "execution_count": null,
   "id": "057fe7b1",
   "metadata": {},
   "outputs": [],
   "source": []
  }
 ],
 "metadata": {
  "kernelspec": {
   "display_name": "Python 3 (ipykernel)",
   "language": "python",
   "name": "python3"
  },
  "language_info": {
   "codemirror_mode": {
    "name": "ipython",
    "version": 3
   },
   "file_extension": ".py",
   "mimetype": "text/x-python",
   "name": "python",
   "nbconvert_exporter": "python",
   "pygments_lexer": "ipython3",
   "version": "3.8.5"
  }
 },
 "nbformat": 4,
 "nbformat_minor": 5
}
